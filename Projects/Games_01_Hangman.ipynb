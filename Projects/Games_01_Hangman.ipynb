{
  "nbformat": 4,
  "nbformat_minor": 0,
  "metadata": {
    "colab": {
      "provenance": [],
      "authorship_tag": "ABX9TyORPRgd20bLt7+Ql9dGUjv6",
      "include_colab_link": true
    },
    "kernelspec": {
      "name": "python3",
      "display_name": "Python 3"
    },
    "language_info": {
      "name": "python"
    }
  },
  "cells": [
    {
      "cell_type": "markdown",
      "metadata": {
        "id": "view-in-github",
        "colab_type": "text"
      },
      "source": [
        "<a href=\"https://colab.research.google.com/github/lucasmontanheiro/colab/blob/main/Projects/Games_01_Hangman.ipynb\" target=\"_parent\"><img src=\"https://colab.research.google.com/assets/colab-badge.svg\" alt=\"Open In Colab\"/></a>"
      ]
    },
    {
      "cell_type": "code",
      "execution_count": 1,
      "metadata": {
        "id": "NV81bRYxXuVo"
      },
      "outputs": [],
      "source": [
        "import pandas as pd"
      ]
    },
    {
      "cell_type": "code",
      "source": [
        "word = \"house\"\n",
        "chances = 0\n",
        "display = \"\"\n",
        "\n",
        "while chances <= (len(word) - 1):\n",
        "  name1 = input(\"Enter letter: \")\n",
        "  print(\"Your guess: \" + name1)\n",
        "\n",
        "  for w in word:\n",
        "    if w == name1:\n",
        "      display += \" \" + name1\n",
        "    else:\n",
        "      display += \" _\"\n",
        "  chances += 1\n",
        "  print(display)\n",
        "  print(f'You have {len(word) - chances} chances!')"
      ],
      "metadata": {
        "colab": {
          "base_uri": "https://localhost:8080/"
        },
        "id": "eqLxayUVX3Ru",
        "outputId": "6898e0ea-4b26-4f17-bf46-0d9c707a0f91"
      },
      "execution_count": 19,
      "outputs": [
        {
          "output_type": "stream",
          "name": "stdout",
          "text": [
            "Enter letter: s\n",
            "Your guess: s\n",
            " _ _ _ s _\n",
            "You still have 4 chances!\n",
            "Enter letter: e\n",
            "Your guess: e\n",
            " _ _ _ s _ _ _ _ _ e\n",
            "You still have 3 chances!\n",
            "Enter letter: d\n",
            "Your guess: d\n",
            " _ _ _ s _ _ _ _ _ e _ _ _ _ _\n",
            "You still have 2 chances!\n",
            "Enter letter: s\n",
            "Your guess: s\n",
            " _ _ _ s _ _ _ _ _ e _ _ _ _ _ _ _ _ s _\n",
            "You still have 1 chances!\n",
            "Enter letter: f\n",
            "Your guess: f\n",
            " _ _ _ s _ _ _ _ _ e _ _ _ _ _ _ _ _ s _ _ _ _ _ _\n",
            "You still have 0 chances!\n"
          ]
        }
      ]
    }
  ]
}