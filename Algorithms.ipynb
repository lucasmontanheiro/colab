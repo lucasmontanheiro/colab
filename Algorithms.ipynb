{
  "nbformat": 4,
  "nbformat_minor": 0,
  "metadata": {
    "colab": {
      "name": "Algorithms.ipynb",
      "provenance": [],
      "authorship_tag": "ABX9TyNzzrj79iUb/BHXwEksJE4J",
      "include_colab_link": true
    },
    "kernelspec": {
      "name": "python3",
      "display_name": "Python 3"
    },
    "language_info": {
      "name": "python"
    }
  },
  "cells": [
    {
      "cell_type": "markdown",
      "metadata": {
        "id": "view-in-github",
        "colab_type": "text"
      },
      "source": [
        "<a href=\"https://colab.research.google.com/github/lucasmontanheiro/colab/blob/main/Theory/Algorithms.ipynb\" target=\"_parent\"><img src=\"https://colab.research.google.com/assets/colab-badge.svg\" alt=\"Open In Colab\"/></a>"
      ]
    },
    {
      "cell_type": "markdown",
      "source": [
        "# Algorithms"
      ],
      "metadata": {
        "id": "6YZPRFAu2RDu"
      }
    },
    {
      "cell_type": "markdown",
      "source": [
        "## Binary Search\n",
        "\n",
        "First a basic algorithm.\n",
        "\n",
        "Example\n",
        "\n",
        "Guess a number between 0 and 100 with the fewer guesses\n",
        "50? More.\n",
        "75? Less.\n",
        "Between 50 and 75? \n",
        "… \n",
        "That's optimizing a search. \n"
      ],
      "metadata": {
        "id": "RCWpWwaQ0aTZ"
      }
    },
    {
      "cell_type": "code",
      "execution_count": null,
      "metadata": {
        "colab": {
          "base_uri": "https://localhost:8080/"
        },
        "id": "wlnwwUh-0Qrr",
        "outputId": "a2d97fe9-fbf4-4dcd-d4be-fea6b15e27e6"
      },
      "outputs": [
        {
          "output_type": "stream",
          "name": "stdout",
          "text": [
            "This is a binary search algorithm.\n"
          ]
        },
        {
          "output_type": "execute_result",
          "data": {
            "text/plain": [
              "True"
            ]
          },
          "metadata": {},
          "execution_count": 8
        }
      ],
      "source": [
        "def binary_search(list, item):\n",
        "  list = 0\n",
        "  item = 0\n",
        "  print('This is a binary search algorithm.')\n",
        "  return True\n",
        "\n",
        "binary_search(1,2)"
      ]
    },
    {
      "cell_type": "code",
      "source": [
        "import numpy as np\n",
        "\n",
        "def orderList(list):\n",
        "  new_list = []\n",
        "  while list:\n",
        "    min = list[0]\n",
        "    for i in list:\n",
        "      if i < min:\n",
        "        min = i\n",
        "    new_list.append(min)\n",
        "    list.remove(min)\n",
        "  return new_list\n",
        "\n",
        "a = [5,7,2,9,1]\n",
        "print('list manually:',orderList(a))\n",
        "\n",
        "a = [5,7,2,9,1]\n",
        "print('using sort():',np.sort(a))\n"
      ],
      "metadata": {
        "colab": {
          "base_uri": "https://localhost:8080/"
        },
        "id": "AORlhiHDWzyE",
        "outputId": "ded61212-54a9-4155-fa2e-5851295e4ffe"
      },
      "execution_count": null,
      "outputs": [
        {
          "output_type": "stream",
          "name": "stdout",
          "text": [
            "list manually: [1, 2, 5, 7, 9]\n",
            "using sort(): [1 2 5 7 9]\n"
          ]
        }
      ]
    },
    {
      "cell_type": "markdown",
      "source": [
        "Binary search is of O(log n).\n",
        "\n",
        "Notes\n",
        "\n",
        "*   Binary search only works when your list is in sorted order, therefore the orderlist() function."
      ],
      "metadata": {
        "id": "dHgMqczF1doa"
      }
    },
    {
      "cell_type": "markdown",
      "source": [
        "## Quicksort – O(n * log n)\n",
        "Example: A fast sorting algorithm, like quicksort\n"
      ],
      "metadata": {
        "id": "MT7zU56v12iz"
      }
    },
    {
      "cell_type": "markdown",
      "source": [
        "It takes the first element (pivot) and sort the other numbers as lower and higher than the pivot. Repeat that until it's all sorted out."
      ],
      "metadata": {
        "id": "_xXC_uyUrnlr"
      }
    },
    {
      "cell_type": "code",
      "source": [
        "def quick_sort(sequence):\n",
        "  lenght = len(sequence)\n",
        "  if lenght <= 1:\n",
        "    return sequence\n",
        "  else:\n",
        "    pivot = sequence.pop()\n",
        "\n",
        "  items_greater = []\n",
        "  items_lower = []\n",
        "\n",
        "  for item in sequence:\n",
        "    if item > pivot:\n",
        "      items_greater.append(item)\n",
        "\n",
        "    else:\n",
        "      items_lower.append(item)\n",
        "    \n",
        "  return quick_sort(items_lower) + [pivot] + quick_sort(items_greater)\n",
        "\n",
        "print(quick_sort([3,6,1,9,6,2,7]))"
      ],
      "metadata": {
        "id": "H570hSDb2OP6",
        "colab": {
          "base_uri": "https://localhost:8080/"
        },
        "outputId": "9a12ed2e-2fb5-4c4d-e475-cc7d11604145"
      },
      "execution_count": null,
      "outputs": [
        {
          "output_type": "stream",
          "name": "stdout",
          "text": [
            "[1, 2, 3, 6, 6, 7, 9]\n"
          ]
        }
      ]
    },
    {
      "cell_type": "markdown",
      "source": [
        "##Selection sort – O(n2) \n",
        "A slow sorting algorithm\n",
        "\n",
        "\n",
        "---\n",
        "\n",
        "To check what are the most popular bands in a list, you have to go through all items and select what's the highest one from that list. \n"
      ],
      "metadata": {
        "id": "DPw0Qogc4SAX"
      }
    },
    {
      "cell_type": "code",
      "source": [
        ""
      ],
      "metadata": {
        "id": "CM9yNMNW4rGx"
      },
      "execution_count": null,
      "outputs": []
    },
    {
      "cell_type": "markdown",
      "source": [
        "## The traveling salesperson – O(n!) \n",
        "You might have read that last section and thought, “There’s no way I’ll ever run into an algorithm that takes O(n!) time.” Well, let me try to prove you wrong! Here’s an example of an algorithm with a really bad running time. This is a famous problem in computer science, because its growth is appalling and some very smart people think it can’t be improved. It’s called the traveling salesperson problem.\n"
      ],
      "metadata": {
        "id": "EyUrSt9a4cKW"
      }
    },
    {
      "cell_type": "code",
      "source": [
        ""
      ],
      "metadata": {
        "id": "7ylvSrNE42kz"
      },
      "execution_count": null,
      "outputs": []
    },
    {
      "cell_type": "markdown",
      "source": [
        "##Breadth-first Search (Graph)\n",
        "Breadth-first search allows you to find the shortest distance between two things. But shortest distance can mean a lot of things! You can use breadth-first search to:\n",
        "\n",
        "*   Write a checkers AI that calculates the fewest moves to victory\n",
        "*   Write a spell checker (fewest edits from your misspelling to a real word—for example, READED -> READER is one edit)\n",
        "*   Find the doctor closest to you in your network"
      ],
      "metadata": {
        "id": "rUC760Na43gS"
      }
    },
    {
      "cell_type": "code",
      "source": [
        ""
      ],
      "metadata": {
        "id": "TFQ0TFhr49yN"
      },
      "execution_count": null,
      "outputs": []
    },
    {
      "cell_type": "markdown",
      "source": [
        "##Dijkstra’s algorithm (Graph)\n",
        "\n",
        "*   We continue the discussion of graphs, and you learn about weighted graphs: a way to assign more or less weight to some edges.\n",
        "*   You learn Dijkstra’s algorithm, which lets you answer “What’s the shortest path to X?” for weighted graphs.\n",
        "*   You learn about cycles in graphs, where Dijkstra’s algorithm doesn’t work."
      ],
      "metadata": {
        "id": "MkpKOYey5kFP"
      }
    },
    {
      "cell_type": "code",
      "source": [
        ""
      ],
      "metadata": {
        "id": "lRjcwg-d5w3F"
      },
      "execution_count": null,
      "outputs": []
    }
  ]
}