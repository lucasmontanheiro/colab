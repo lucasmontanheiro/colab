{
  "nbformat": 4,
  "nbformat_minor": 0,
  "metadata": {
    "colab": {
      "name": "Guitar_Scales.ipynb",
      "provenance": [],
      "authorship_tag": "ABX9TyOJ4ltL/7RToxUcGYU9x3S9",
      "include_colab_link": true
    },
    "kernelspec": {
      "name": "python3",
      "display_name": "Python 3"
    },
    "language_info": {
      "name": "python"
    }
  },
  "cells": [
    {
      "cell_type": "markdown",
      "metadata": {
        "id": "view-in-github",
        "colab_type": "text"
      },
      "source": [
        "<a href=\"https://colab.research.google.com/github/lucasmontanheiro/colab/blob/main/Analysis/Guitar_Scales.ipynb\" target=\"_parent\"><img src=\"https://colab.research.google.com/assets/colab-badge.svg\" alt=\"Open In Colab\"/></a>"
      ]
    },
    {
      "cell_type": "markdown",
      "source": [
        "#Guitar Scales\n",
        "\n",
        "Trying to get Python to build guitar scales automagically."
      ],
      "metadata": {
        "id": "uHPZhiOVMAUD"
      }
    },
    {
      "cell_type": "code",
      "execution_count": 36,
      "metadata": {
        "id": "iNAh0m9BLgWo"
      },
      "outputs": [],
      "source": [
        "# List of all notes\n",
        "notes = ['C', 'C#', 'D', 'D#', 'E', 'F', 'F#', 'G', 'G#', 'A', 'A#', 'B']*3"
      ]
    },
    {
      "cell_type": "code",
      "source": [
        "# To print notes starting with root note\n",
        "\n",
        "def printNotes(tone):\n",
        "  inote = notes.index(tone)\n",
        "  inotes = notes[inote:inote+12]\n",
        "  print(inotes)\n",
        "\n",
        "printNotes('D')"
      ],
      "metadata": {
        "colab": {
          "base_uri": "https://localhost:8080/"
        },
        "id": "NuhzFfcyMIjj",
        "outputId": "669c85f6-6d30-46bf-950e-a8211e6c6581"
      },
      "execution_count": 23,
      "outputs": [
        {
          "output_type": "stream",
          "name": "stdout",
          "text": [
            "['D', 'D#', 'E', 'F', 'F#', 'G', 'G#', 'A', 'A#', 'B', 'C', 'C#']\n"
          ]
        }
      ]
    },
    {
      "cell_type": "code",
      "source": [
        "# To print notes of a specific scale\n",
        "\n",
        "notes = ['C', 'C#', 'D', 'D#', 'E', 'F', 'F#', 'G', 'G#', 'A', 'A#', 'B']*3\n",
        "\n",
        "def printScale(tone, scale):\n",
        "  \n",
        "  root = notes.index(tone)\n",
        "\n",
        "  scales = {\n",
        "      'major' : [0, 2, 4, 5, 7, 9],\n",
        "      'minor' : [0, 2, 3, 5, 7, 9]\n",
        "  }\n",
        "  \n",
        "  tscale = scales[scale]\n",
        "\n",
        "  print(tscale)\n",
        "\n",
        "  scale_notes = []\n",
        "\n",
        "  for i in tscale:\n",
        "    scale_notes.append(notes[i])\n",
        "\n",
        "  print(scale_notes)\n",
        "\n",
        "printScale('D', 'minor')"
      ],
      "metadata": {
        "colab": {
          "base_uri": "https://localhost:8080/"
        },
        "id": "SBqc2_lbOKAX",
        "outputId": "558cb143-9e58-40e6-8bdb-de01a98a76da"
      },
      "execution_count": 41,
      "outputs": [
        {
          "output_type": "stream",
          "name": "stdout",
          "text": [
            "[0, 2, 3, 5, 7, 9]\n",
            "['C', 'D', 'D#', 'F', 'G', 'A']\n"
          ]
        }
      ]
    }
  ]
}