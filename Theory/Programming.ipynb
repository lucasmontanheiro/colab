{
  "nbformat": 4,
  "nbformat_minor": 0,
  "metadata": {
    "colab": {
      "name": "Programming.ipynb",
      "provenance": [],
      "toc_visible": true,
      "authorship_tag": "ABX9TyObmO2gjsgaimk2ad/btgB6",
      "include_colab_link": true
    },
    "kernelspec": {
      "name": "python3",
      "display_name": "Python 3"
    },
    "language_info": {
      "name": "python"
    }
  },
  "cells": [
    {
      "cell_type": "markdown",
      "metadata": {
        "id": "view-in-github",
        "colab_type": "text"
      },
      "source": [
        "<a href=\"https://colab.research.google.com/github/lucasmontanheiro/colab/blob/main/Theory/Programming.ipynb\" target=\"_parent\"><img src=\"https://colab.research.google.com/assets/colab-badge.svg\" alt=\"Open In Colab\"/></a>"
      ]
    },
    {
      "cell_type": "markdown",
      "source": [
        "#Programming in Python"
      ],
      "metadata": {
        "id": "mGnJh30g3kBT"
      }
    },
    {
      "cell_type": "markdown",
      "source": [
        "###For, range()"
      ],
      "metadata": {
        "id": "SQwPAj-63noR"
      }
    },
    {
      "cell_type": "code",
      "execution_count": null,
      "metadata": {
        "colab": {
          "base_uri": "https://localhost:8080/"
        },
        "id": "7NOMMlbT3hrQ",
        "outputId": "6468065a-5533-4481-d168-c0ee73e8350f"
      },
      "outputs": [
        {
          "output_type": "stream",
          "name": "stdout",
          "text": [
            "range(0, 5)\n",
            "0\n",
            "1\n",
            "2\n",
            "3\n",
            "4\n"
          ]
        }
      ],
      "source": [
        "n_simmulations = 5\n",
        "\n",
        "print(range(n_simmulations))\n",
        "\n",
        "# each iteration in the loop trial\n",
        "for i in range(n_simmulations):\n",
        "  print(i)"
      ]
    },
    {
      "cell_type": "markdown",
      "source": [
        "##Creating Sets & Operations\n",
        "\n",
        "Creating list of items that belong together. \n",
        "From Machine Learning for Dummies."
      ],
      "metadata": {
        "id": "3-vzHKIOCvmo"
      }
    },
    {
      "cell_type": "code",
      "source": [
        "SetA = set(['Red','Blue','Green','Black'])\n",
        "SetB = set(['Black','Green','Yellow','Orange'])\n",
        "\n",
        "SetX = SetA.union(SetB)\n",
        "SetY = SetA.intersection(SetB)\n",
        "SetZ = SetA.difference(SetB)\n",
        "\n",
        "print('{0}\\n{1}\\n{2}\\n'.format(SetX,SetY,SetZ))"
      ],
      "metadata": {
        "colab": {
          "base_uri": "https://localhost:8080/"
        },
        "id": "39EWLEUFDUWI",
        "outputId": "e7d0efc3-8c52-4125-9e74-0b28cdd2a55d"
      },
      "execution_count": null,
      "outputs": [
        {
          "output_type": "stream",
          "name": "stdout",
          "text": [
            "{'Yellow', 'Blue', 'Black', 'Green', 'Red', 'Orange'}\n",
            "{'Green', 'Black'}\n",
            "{'Red', 'Blue'}\n",
            "\n"
          ]
        }
      ]
    },
    {
      "cell_type": "markdown",
      "source": [
        "##Using Lists\n",
        "A list is a kind of sequence. Sequences simply provide some means of allowing multiple data items to exist together in a single storage unit, but as separate entities. "
      ],
      "metadata": {
        "id": "6oj-LNxtEnLG"
      }
    },
    {
      "cell_type": "markdown",
      "source": [
        "###Tuples\n",
        "A tuple is a collection used to create complex list-like sequences. An advantage of tuples is that you can nest the content of a tuple. This feature lets you create structures that can hold employee records or x-y coordinate pairs. "
      ],
      "metadata": {
        "id": "wqWluTliE5BW"
      }
    },
    {
      "cell_type": "markdown",
      "source": [
        "###Dictionaries\n",
        "As with the real dictionaries, you create key/value pairs when using the dictionary collection (think of a word and its associated definition). A dictionary provides incredibly fast search times and makes ordering data significantly easier. "
      ],
      "metadata": {
        "id": "DKqbTFFtFKq4"
      }
    },
    {
      "cell_type": "markdown",
      "source": [
        "###Stacks\n",
        "Most programming languages support stacks directly. Howeer, Python doesn't support the stack, although there's a workaround for that. A stack is a last in/first out (LIFO) sequence. This of a pile of pancakes: you can add new pancakes to the top and also take them off of the top. A stack is an important collection that you can simulate in Python using a list. "
      ],
      "metadata": {
        "id": "1vhXmNifFdXF"
      }
    },
    {
      "cell_type": "markdown",
      "source": [
        "###Queues\n",
        "A queue is a first in/first out (FIFO) collection. You use it to track items that need to be processed in some way. This of a queue as a line at the bank. You go into the line, wait your turn, and are eventually called to talk with a teller. "
      ],
      "metadata": {
        "id": "FDdi7hksF3k3"
      }
    },
    {
      "cell_type": "markdown",
      "source": [
        "###Deques\n",
        "A double-ended queue (deque, pronounced deck) is a queue-like structure that lets you add or remove items from either end, but not from the middle. You can use a deque as a queue or a stack or any other kind of collection to which you're adding and from which you're removing items in an orderly manner (in contrast to lists, tuples, and dictionaries, which allow randomized access and management)."
      ],
      "metadata": {
        "id": "gyFGr1ObGFh3"
      }
    }
  ]
}