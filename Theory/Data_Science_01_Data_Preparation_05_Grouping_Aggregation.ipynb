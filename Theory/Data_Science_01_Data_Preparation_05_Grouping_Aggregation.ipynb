{
  "nbformat": 4,
  "nbformat_minor": 0,
  "metadata": {
    "colab": {
      "name": "Data_Science_01_Data_Preparation_05_Grouping_Aggregation.ipynb",
      "provenance": [],
      "authorship_tag": "ABX9TyOn7cmwj7TNbbxrUb8ZfrCS",
      "include_colab_link": true
    },
    "kernelspec": {
      "name": "python3",
      "display_name": "Python 3"
    },
    "language_info": {
      "name": "python"
    }
  },
  "cells": [
    {
      "cell_type": "markdown",
      "metadata": {
        "id": "view-in-github",
        "colab_type": "text"
      },
      "source": [
        "<a href=\"https://colab.research.google.com/github/lucasmontanheiro/colab/blob/main/Theory/Data_Science_01_Data_Preparation_05_Grouping_Aggregation.ipynb\" target=\"_parent\"><img src=\"https://colab.research.google.com/assets/colab-badge.svg\" alt=\"Open In Colab\"/></a>"
      ]
    },
    {
      "cell_type": "code",
      "execution_count": null,
      "metadata": {
        "id": "SK8iUGYrMBfZ"
      },
      "outputs": [],
      "source": [
        "import pandas as pd\n",
        "import numpy as np\n",
        "\n",
        "from pandas import Series, DataFrame"
      ]
    },
    {
      "cell_type": "markdown",
      "source": [
        "**Grouping data by column index**"
      ],
      "metadata": {
        "id": "z7OHcnojMwsB"
      }
    },
    {
      "cell_type": "code",
      "source": [
        "address = 'C:/Users//'"
      ],
      "metadata": {
        "id": "Yk0ViCWzMt9L"
      },
      "execution_count": null,
      "outputs": []
    },
    {
      "cell_type": "code",
      "source": [
        ""
      ],
      "metadata": {
        "id": "2rYZaEeEM32Q"
      },
      "execution_count": null,
      "outputs": []
    }
  ]
}