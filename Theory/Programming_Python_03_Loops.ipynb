{
  "nbformat": 4,
  "nbformat_minor": 0,
  "metadata": {
    "colab": {
      "name": "Programming_Python_03_Loops.ipynb",
      "provenance": [],
      "toc_visible": true,
      "authorship_tag": "ABX9TyPY7HYvOg4FyO//sEgl4D2y",
      "include_colab_link": true
    },
    "kernelspec": {
      "name": "python3",
      "display_name": "Python 3"
    },
    "language_info": {
      "name": "python"
    }
  },
  "cells": [
    {
      "cell_type": "markdown",
      "metadata": {
        "id": "view-in-github",
        "colab_type": "text"
      },
      "source": [
        "<a href=\"https://colab.research.google.com/github/lucasmontanheiro/colab/blob/main/Theory/Programming_Python_03_Loops.ipynb\" target=\"_parent\"><img src=\"https://colab.research.google.com/assets/colab-badge.svg\" alt=\"Open In Colab\"/></a>"
      ]
    },
    {
      "cell_type": "markdown",
      "source": [
        "#Programming in Python"
      ],
      "metadata": {
        "id": "6Way7Fgc_qyH"
      }
    },
    {
      "cell_type": "markdown",
      "source": [
        "###Basic Loops"
      ],
      "metadata": {
        "id": "mvgNkekTCxE0"
      }
    },
    {
      "cell_type": "code",
      "execution_count": 4,
      "metadata": {
        "colab": {
          "base_uri": "https://localhost:8080/"
        },
        "id": "cVIpgEle_Z_7",
        "outputId": "65a7696b-6346-40fd-9c0a-85e1ed60bae8"
      },
      "outputs": [
        {
          "output_type": "stream",
          "name": "stdout",
          "text": [
            "1\n",
            "2\n",
            "Found!\n",
            "4\n",
            "5\n"
          ]
        }
      ],
      "source": [
        "# for loops with break and continue\n",
        "nums = [1,2,3,4,5]\n",
        "\n",
        "for num in nums:\n",
        "  if num ==3:\n",
        "    print(\"Found!\")\n",
        "    #break # It stops the loop\n",
        "    continue # It doesn't print number 3\n",
        "  print(num)"
      ]
    },
    {
      "cell_type": "code",
      "source": [
        "# Using range function\n",
        "for i in range(5):\n",
        "  print(i)"
      ],
      "metadata": {
        "colab": {
          "base_uri": "https://localhost:8080/"
        },
        "id": "i608CoOV_4wH",
        "outputId": "b2865f0e-ed83-4372-c730-34067ec7a9f1"
      },
      "execution_count": 8,
      "outputs": [
        {
          "output_type": "stream",
          "name": "stdout",
          "text": [
            "0\n",
            "1\n",
            "2\n",
            "3\n",
            "4\n"
          ]
        }
      ]
    },
    {
      "cell_type": "code",
      "source": [
        "# Using while loop\n",
        "x = 0\n",
        "\n",
        "while x < 5:\n",
        "  print(x)\n",
        "  x += 1"
      ],
      "metadata": {
        "colab": {
          "base_uri": "https://localhost:8080/"
        },
        "id": "E7mSOoz-AyKa",
        "outputId": "1e9393d7-6a55-47d8-a3fb-c3b61f45e6db"
      },
      "execution_count": 7,
      "outputs": [
        {
          "output_type": "stream",
          "name": "stdout",
          "text": [
            "0\n",
            "1\n",
            "2\n",
            "3\n",
            "4\n"
          ]
        }
      ]
    },
    {
      "cell_type": "markdown",
      "source": [
        "**List Comprehensions**\n",
        "\n",
        "The approach described earlier for generating the list squares consisted of using three or four lines of code. A list comprehension allows you to generate this same list in just one line of code. \n",
        "\n",
        "A list comprehension combines the for loop and the creation of new elements into one line, and automatically appends each new element. List comprehensions are not always presented to beginners, but I have included them here because you’ll most likely see them as soon as you start looking at other people’s code. The following example builds the same list of square numbers you saw earlier but uses a list comprehension: \n",
        "\n",
        "```\n",
        "squares = [value**2 for value in range(1, 11)] \n",
        "print(squares)\n",
        "```\n"
      ],
      "metadata": {
        "id": "1WSjKOq5BQmu"
      }
    },
    {
      "cell_type": "code",
      "source": [],
      "metadata": {
        "id": "3cRlMXttCrGz"
      },
      "execution_count": null,
      "outputs": []
    },
    {
      "cell_type": "markdown",
      "source": [
        "###Intermediate Loops"
      ],
      "metadata": {
        "id": "u6pDvYeuCiXW"
      }
    },
    {
      "cell_type": "code",
      "source": [
        "# zip() coordinates multiple lists with the same lenght\n",
        "\n",
        "import itertools\n",
        "\n",
        "li_1 = ['a', 'b', 'c']\n",
        "li_2 = [1,2]\n",
        "\n",
        "for f,o in zip(li_1, li_2):\n",
        "  print(f,o)\n",
        "\n",
        "print(\"--- next example ---\")\n",
        "\n",
        "for f,o in itertools.zip_longest(li_1, li_2):\n",
        "  print(f,o)"
      ],
      "metadata": {
        "colab": {
          "base_uri": "https://localhost:8080/"
        },
        "id": "EDU3gFm2ClxM",
        "outputId": "1f5b6dbf-194a-4d97-d864-d26648439850"
      },
      "execution_count": 12,
      "outputs": [
        {
          "output_type": "stream",
          "name": "stdout",
          "text": [
            "a 1\n",
            "b 2\n",
            "--- next example ---\n",
            "a 1\n",
            "b 2\n",
            "c None\n"
          ]
        }
      ]
    }
  ]
}