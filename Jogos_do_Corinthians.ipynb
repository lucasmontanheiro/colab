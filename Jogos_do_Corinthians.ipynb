{
  "nbformat": 4,
  "nbformat_minor": 0,
  "metadata": {
    "colab": {
      "name": "Jogos do Corinthians.ipynb",
      "provenance": [],
      "authorship_tag": "ABX9TyPTjdmImj3UZXeo5NywR6Pd",
      "include_colab_link": true
    },
    "kernelspec": {
      "name": "python3",
      "display_name": "Python 3"
    },
    "language_info": {
      "name": "python"
    }
  },
  "cells": [
    {
      "cell_type": "markdown",
      "metadata": {
        "id": "view-in-github",
        "colab_type": "text"
      },
      "source": [
        "<a href=\"https://colab.research.google.com/github/lucasmontanheiro/colab/blob/main/Jogos_do_Corinthians.ipynb\" target=\"_parent\"><img src=\"https://colab.research.google.com/assets/colab-badge.svg\" alt=\"Open In Colab\"/></a>"
      ]
    },
    {
      "cell_type": "markdown",
      "source": [
        "#Jogos do Corinthians\n",
        "Analisando os dados dos jogos do nosso Sport Club Corinthians Paulista!"
      ],
      "metadata": {
        "id": "MGejroITCS_J"
      }
    },
    {
      "cell_type": "code",
      "execution_count": null,
      "metadata": {
        "id": "5NxyiYv8ABYd",
        "colab": {
          "resources": {
            "http://localhost:8080/nbextensions/google.colab/files.js": {
              "data": "Ly8gQ29weXJpZ2h0IDIwMTcgR29vZ2xlIExMQwovLwovLyBMaWNlbnNlZCB1bmRlciB0aGUgQXBhY2hlIExpY2Vuc2UsIFZlcnNpb24gMi4wICh0aGUgIkxpY2Vuc2UiKTsKLy8geW91IG1heSBub3QgdXNlIHRoaXMgZmlsZSBleGNlcHQgaW4gY29tcGxpYW5jZSB3aXRoIHRoZSBMaWNlbnNlLgovLyBZb3UgbWF5IG9idGFpbiBhIGNvcHkgb2YgdGhlIExpY2Vuc2UgYXQKLy8KLy8gICAgICBodHRwOi8vd3d3LmFwYWNoZS5vcmcvbGljZW5zZXMvTElDRU5TRS0yLjAKLy8KLy8gVW5sZXNzIHJlcXVpcmVkIGJ5IGFwcGxpY2FibGUgbGF3IG9yIGFncmVlZCB0byBpbiB3cml0aW5nLCBzb2Z0d2FyZQovLyBkaXN0cmlidXRlZCB1bmRlciB0aGUgTGljZW5zZSBpcyBkaXN0cmlidXRlZCBvbiBhbiAiQVMgSVMiIEJBU0lTLAovLyBXSVRIT1VUIFdBUlJBTlRJRVMgT1IgQ09ORElUSU9OUyBPRiBBTlkgS0lORCwgZWl0aGVyIGV4cHJlc3Mgb3IgaW1wbGllZC4KLy8gU2VlIHRoZSBMaWNlbnNlIGZvciB0aGUgc3BlY2lmaWMgbGFuZ3VhZ2UgZ292ZXJuaW5nIHBlcm1pc3Npb25zIGFuZAovLyBsaW1pdGF0aW9ucyB1bmRlciB0aGUgTGljZW5zZS4KCi8qKgogKiBAZmlsZW92ZXJ2aWV3IEhlbHBlcnMgZm9yIGdvb2dsZS5jb2xhYiBQeXRob24gbW9kdWxlLgogKi8KKGZ1bmN0aW9uKHNjb3BlKSB7CmZ1bmN0aW9uIHNwYW4odGV4dCwgc3R5bGVBdHRyaWJ1dGVzID0ge30pIHsKICBjb25zdCBlbGVtZW50ID0gZG9jdW1lbnQuY3JlYXRlRWxlbWVudCgnc3BhbicpOwogIGVsZW1lbnQudGV4dENvbnRlbnQgPSB0ZXh0OwogIGZvciAoY29uc3Qga2V5IG9mIE9iamVjdC5rZXlzKHN0eWxlQXR0cmlidXRlcykpIHsKICAgIGVsZW1lbnQuc3R5bGVba2V5XSA9IHN0eWxlQXR0cmlidXRlc1trZXldOwogIH0KICByZXR1cm4gZWxlbWVudDsKfQoKLy8gTWF4IG51bWJlciBvZiBieXRlcyB3aGljaCB3aWxsIGJlIHVwbG9hZGVkIGF0IGEgdGltZS4KY29uc3QgTUFYX1BBWUxPQURfU0laRSA9IDEwMCAqIDEwMjQ7CgpmdW5jdGlvbiBfdXBsb2FkRmlsZXMoaW5wdXRJZCwgb3V0cHV0SWQpIHsKICBjb25zdCBzdGVwcyA9IHVwbG9hZEZpbGVzU3RlcChpbnB1dElkLCBvdXRwdXRJZCk7CiAgY29uc3Qgb3V0cHV0RWxlbWVudCA9IGRvY3VtZW50LmdldEVsZW1lbnRCeUlkKG91dHB1dElkKTsKICAvLyBDYWNoZSBzdGVwcyBvbiB0aGUgb3V0cHV0RWxlbWVudCB0byBtYWtlIGl0IGF2YWlsYWJsZSBmb3IgdGhlIG5leHQgY2FsbAogIC8vIHRvIHVwbG9hZEZpbGVzQ29udGludWUgZnJvbSBQeXRob24uCiAgb3V0cHV0RWxlbWVudC5zdGVwcyA9IHN0ZXBzOwoKICByZXR1cm4gX3VwbG9hZEZpbGVzQ29udGludWUob3V0cHV0SWQpOwp9CgovLyBUaGlzIGlzIHJvdWdobHkgYW4gYXN5bmMgZ2VuZXJhdG9yIChub3Qgc3VwcG9ydGVkIGluIHRoZSBicm93c2VyIHlldCksCi8vIHdoZXJlIHRoZXJlIGFyZSBtdWx0aXBsZSBhc3luY2hyb25vdXMgc3RlcHMgYW5kIHRoZSBQeXRob24gc2lkZSBpcyBnb2luZwovLyB0byBwb2xsIGZvciBjb21wbGV0aW9uIG9mIGVhY2ggc3RlcC4KLy8gVGhpcyB1c2VzIGEgUHJvbWlzZSB0byBibG9jayB0aGUgcHl0aG9uIHNpZGUgb24gY29tcGxldGlvbiBvZiBlYWNoIHN0ZXAsCi8vIHRoZW4gcGFzc2VzIHRoZSByZXN1bHQgb2YgdGhlIHByZXZpb3VzIHN0ZXAgYXMgdGhlIGlucHV0IHRvIHRoZSBuZXh0IHN0ZXAuCmZ1bmN0aW9uIF91cGxvYWRGaWxlc0NvbnRpbnVlKG91dHB1dElkKSB7CiAgY29uc3Qgb3V0cHV0RWxlbWVudCA9IGRvY3VtZW50LmdldEVsZW1lbnRCeUlkKG91dHB1dElkKTsKICBjb25zdCBzdGVwcyA9IG91dHB1dEVsZW1lbnQuc3RlcHM7CgogIGNvbnN0IG5leHQgPSBzdGVwcy5uZXh0KG91dHB1dEVsZW1lbnQubGFzdFByb21pc2VWYWx1ZSk7CiAgcmV0dXJuIFByb21pc2UucmVzb2x2ZShuZXh0LnZhbHVlLnByb21pc2UpLnRoZW4oKHZhbHVlKSA9PiB7CiAgICAvLyBDYWNoZSB0aGUgbGFzdCBwcm9taXNlIHZhbHVlIHRvIG1ha2UgaXQgYXZhaWxhYmxlIHRvIHRoZSBuZXh0CiAgICAvLyBzdGVwIG9mIHRoZSBnZW5lcmF0b3IuCiAgICBvdXRwdXRFbGVtZW50Lmxhc3RQcm9taXNlVmFsdWUgPSB2YWx1ZTsKICAgIHJldHVybiBuZXh0LnZhbHVlLnJlc3BvbnNlOwogIH0pOwp9CgovKioKICogR2VuZXJhdG9yIGZ1bmN0aW9uIHdoaWNoIGlzIGNhbGxlZCBiZXR3ZWVuIGVhY2ggYXN5bmMgc3RlcCBvZiB0aGUgdXBsb2FkCiAqIHByb2Nlc3MuCiAqIEBwYXJhbSB7c3RyaW5nfSBpbnB1dElkIEVsZW1lbnQgSUQgb2YgdGhlIGlucHV0IGZpbGUgcGlja2VyIGVsZW1lbnQuCiAqIEBwYXJhbSB7c3RyaW5nfSBvdXRwdXRJZCBFbGVtZW50IElEIG9mIHRoZSBvdXRwdXQgZGlzcGxheS4KICogQHJldHVybiB7IUl0ZXJhYmxlPCFPYmplY3Q+fSBJdGVyYWJsZSBvZiBuZXh0IHN0ZXBzLgogKi8KZnVuY3Rpb24qIHVwbG9hZEZpbGVzU3RlcChpbnB1dElkLCBvdXRwdXRJZCkgewogIGNvbnN0IGlucHV0RWxlbWVudCA9IGRvY3VtZW50LmdldEVsZW1lbnRCeUlkKGlucHV0SWQpOwogIGlucHV0RWxlbWVudC5kaXNhYmxlZCA9IGZhbHNlOwoKICBjb25zdCBvdXRwdXRFbGVtZW50ID0gZG9jdW1lbnQuZ2V0RWxlbWVudEJ5SWQob3V0cHV0SWQpOwogIG91dHB1dEVsZW1lbnQuaW5uZXJIVE1MID0gJyc7CgogIGNvbnN0IHBpY2tlZFByb21pc2UgPSBuZXcgUHJvbWlzZSgocmVzb2x2ZSkgPT4gewogICAgaW5wdXRFbGVtZW50LmFkZEV2ZW50TGlzdGVuZXIoJ2NoYW5nZScsIChlKSA9PiB7CiAgICAgIHJlc29sdmUoZS50YXJnZXQuZmlsZXMpOwogICAgfSk7CiAgfSk7CgogIGNvbnN0IGNhbmNlbCA9IGRvY3VtZW50LmNyZWF0ZUVsZW1lbnQoJ2J1dHRvbicpOwogIGlucHV0RWxlbWVudC5wYXJlbnRFbGVtZW50LmFwcGVuZENoaWxkKGNhbmNlbCk7CiAgY2FuY2VsLnRleHRDb250ZW50ID0gJ0NhbmNlbCB1cGxvYWQnOwogIGNvbnN0IGNhbmNlbFByb21pc2UgPSBuZXcgUHJvbWlzZSgocmVzb2x2ZSkgPT4gewogICAgY2FuY2VsLm9uY2xpY2sgPSAoKSA9PiB7CiAgICAgIHJlc29sdmUobnVsbCk7CiAgICB9OwogIH0pOwoKICAvLyBXYWl0IGZvciB0aGUgdXNlciB0byBwaWNrIHRoZSBmaWxlcy4KICBjb25zdCBmaWxlcyA9IHlpZWxkIHsKICAgIHByb21pc2U6IFByb21pc2UucmFjZShbcGlja2VkUHJvbWlzZSwgY2FuY2VsUHJvbWlzZV0pLAogICAgcmVzcG9uc2U6IHsKICAgICAgYWN0aW9uOiAnc3RhcnRpbmcnLAogICAgfQogIH07CgogIGNhbmNlbC5yZW1vdmUoKTsKCiAgLy8gRGlzYWJsZSB0aGUgaW5wdXQgZWxlbWVudCBzaW5jZSBmdXJ0aGVyIHBpY2tzIGFyZSBub3QgYWxsb3dlZC4KICBpbnB1dEVsZW1lbnQuZGlzYWJsZWQgPSB0cnVlOwoKICBpZiAoIWZpbGVzKSB7CiAgICByZXR1cm4gewogICAgICByZXNwb25zZTogewogICAgICAgIGFjdGlvbjogJ2NvbXBsZXRlJywKICAgICAgfQogICAgfTsKICB9CgogIGZvciAoY29uc3QgZmlsZSBvZiBmaWxlcykgewogICAgY29uc3QgbGkgPSBkb2N1bWVudC5jcmVhdGVFbGVtZW50KCdsaScpOwogICAgbGkuYXBwZW5kKHNwYW4oZmlsZS5uYW1lLCB7Zm9udFdlaWdodDogJ2JvbGQnfSkpOwogICAgbGkuYXBwZW5kKHNwYW4oCiAgICAgICAgYCgke2ZpbGUudHlwZSB8fCAnbi9hJ30pIC0gJHtmaWxlLnNpemV9IGJ5dGVzLCBgICsKICAgICAgICBgbGFzdCBtb2RpZmllZDogJHsKICAgICAgICAgICAgZmlsZS5sYXN0TW9kaWZpZWREYXRlID8gZmlsZS5sYXN0TW9kaWZpZWREYXRlLnRvTG9jYWxlRGF0ZVN0cmluZygpIDoKICAgICAgICAgICAgICAgICAgICAgICAgICAgICAgICAgICAgJ24vYSd9IC0gYCkpOwogICAgY29uc3QgcGVyY2VudCA9IHNwYW4oJzAlIGRvbmUnKTsKICAgIGxpLmFwcGVuZENoaWxkKHBlcmNlbnQpOwoKICAgIG91dHB1dEVsZW1lbnQuYXBwZW5kQ2hpbGQobGkpOwoKICAgIGNvbnN0IGZpbGVEYXRhUHJvbWlzZSA9IG5ldyBQcm9taXNlKChyZXNvbHZlKSA9PiB7CiAgICAgIGNvbnN0IHJlYWRlciA9IG5ldyBGaWxlUmVhZGVyKCk7CiAgICAgIHJlYWRlci5vbmxvYWQgPSAoZSkgPT4gewogICAgICAgIHJlc29sdmUoZS50YXJnZXQucmVzdWx0KTsKICAgICAgfTsKICAgICAgcmVhZGVyLnJlYWRBc0FycmF5QnVmZmVyKGZpbGUpOwogICAgfSk7CiAgICAvLyBXYWl0IGZvciB0aGUgZGF0YSB0byBiZSByZWFkeS4KICAgIGxldCBmaWxlRGF0YSA9IHlpZWxkIHsKICAgICAgcHJvbWlzZTogZmlsZURhdGFQcm9taXNlLAogICAgICByZXNwb25zZTogewogICAgICAgIGFjdGlvbjogJ2NvbnRpbnVlJywKICAgICAgfQogICAgfTsKCiAgICAvLyBVc2UgYSBjaHVua2VkIHNlbmRpbmcgdG8gYXZvaWQgbWVzc2FnZSBzaXplIGxpbWl0cy4gU2VlIGIvNjIxMTU2NjAuCiAgICBsZXQgcG9zaXRpb24gPSAwOwogICAgZG8gewogICAgICBjb25zdCBsZW5ndGggPSBNYXRoLm1pbihmaWxlRGF0YS5ieXRlTGVuZ3RoIC0gcG9zaXRpb24sIE1BWF9QQVlMT0FEX1NJWkUpOwogICAgICBjb25zdCBjaHVuayA9IG5ldyBVaW50OEFycmF5KGZpbGVEYXRhLCBwb3NpdGlvbiwgbGVuZ3RoKTsKICAgICAgcG9zaXRpb24gKz0gbGVuZ3RoOwoKICAgICAgY29uc3QgYmFzZTY0ID0gYnRvYShTdHJpbmcuZnJvbUNoYXJDb2RlLmFwcGx5KG51bGwsIGNodW5rKSk7CiAgICAgIHlpZWxkIHsKICAgICAgICByZXNwb25zZTogewogICAgICAgICAgYWN0aW9uOiAnYXBwZW5kJywKICAgICAgICAgIGZpbGU6IGZpbGUubmFtZSwKICAgICAgICAgIGRhdGE6IGJhc2U2NCwKICAgICAgICB9LAogICAgICB9OwoKICAgICAgbGV0IHBlcmNlbnREb25lID0gZmlsZURhdGEuYnl0ZUxlbmd0aCA9PT0gMCA/CiAgICAgICAgICAxMDAgOgogICAgICAgICAgTWF0aC5yb3VuZCgocG9zaXRpb24gLyBmaWxlRGF0YS5ieXRlTGVuZ3RoKSAqIDEwMCk7CiAgICAgIHBlcmNlbnQudGV4dENvbnRlbnQgPSBgJHtwZXJjZW50RG9uZX0lIGRvbmVgOwoKICAgIH0gd2hpbGUgKHBvc2l0aW9uIDwgZmlsZURhdGEuYnl0ZUxlbmd0aCk7CiAgfQoKICAvLyBBbGwgZG9uZS4KICB5aWVsZCB7CiAgICByZXNwb25zZTogewogICAgICBhY3Rpb246ICdjb21wbGV0ZScsCiAgICB9CiAgfTsKfQoKc2NvcGUuZ29vZ2xlID0gc2NvcGUuZ29vZ2xlIHx8IHt9OwpzY29wZS5nb29nbGUuY29sYWIgPSBzY29wZS5nb29nbGUuY29sYWIgfHwge307CnNjb3BlLmdvb2dsZS5jb2xhYi5fZmlsZXMgPSB7CiAgX3VwbG9hZEZpbGVzLAogIF91cGxvYWRGaWxlc0NvbnRpbnVlLAp9Owp9KShzZWxmKTsK",
              "ok": true,
              "headers": [
                [
                  "content-type",
                  "application/javascript"
                ]
              ],
              "status": 200,
              "status_text": ""
            }
          },
          "base_uri": "https://localhost:8080/",
          "height": 73
        },
        "outputId": "f56de6a3-911b-48ff-84ab-e349f12ffcbd"
      },
      "outputs": [
        {
          "output_type": "display_data",
          "data": {
            "text/plain": [
              "<IPython.core.display.HTML object>"
            ],
            "text/html": [
              "\n",
              "     <input type=\"file\" id=\"files-4af18998-8fa1-4d98-ab95-f18dd718d321\" name=\"files[]\" multiple disabled\n",
              "        style=\"border:none\" />\n",
              "     <output id=\"result-4af18998-8fa1-4d98-ab95-f18dd718d321\">\n",
              "      Upload widget is only available when the cell has been executed in the\n",
              "      current browser session. Please rerun this cell to enable.\n",
              "      </output>\n",
              "      <script src=\"/nbextensions/google.colab/files.js\"></script> "
            ]
          },
          "metadata": {}
        },
        {
          "output_type": "stream",
          "name": "stdout",
          "text": [
            "Saving jogos_corinthians.csv to jogos_corinthians.csv\n"
          ]
        }
      ],
      "source": [
        "import pandas as pd\n",
        "import seaborn as sns\n",
        "import matplotlib.pyplot as plt\n",
        "\n",
        "from google.colab import files\n",
        "uploaded = files.upload()"
      ]
    },
    {
      "cell_type": "code",
      "source": [
        "data = pd.read_csv(\"/content/sample_data/jogos_corinthians.csv\")"
      ],
      "metadata": {
        "id": "VjEXbLNoA4FY"
      },
      "execution_count": null,
      "outputs": []
    },
    {
      "cell_type": "markdown",
      "source": [
        "##Pre-processing"
      ],
      "metadata": {
        "id": "F0FhxL92BU1b"
      }
    },
    {
      "cell_type": "code",
      "source": [
        "print(data.describe())\n",
        "print(data.head())\n",
        "print(data.dtypes)\n",
        "#data = data.dropna()\n",
        "print(data.isnull().sum())\n",
        "print(data.describe())"
      ],
      "metadata": {
        "id": "QAc84XX0A4Hb",
        "colab": {
          "base_uri": "https://localhost:8080/"
        },
        "outputId": "f4538c45-1f28-47c8-a55b-2b76e80dcc8b"
      },
      "execution_count": null,
      "outputs": [
        {
          "output_type": "stream",
          "name": "stdout",
          "text": [
            "          ANO_JOGO  ANO_COMPETICAO\n",
            "count  5652.000000     5652.000000\n",
            "mean   1974.327495     1974.307502\n",
            "std      26.835700       26.849086\n",
            "min    1910.000000     1910.000000\n",
            "25%    1955.000000     1955.000000\n",
            "50%    1977.000000     1977.000000\n",
            "75%    1997.000000     1997.000000\n",
            "max    2017.000000     2017.000000\n",
            "         DATA  ANO_JOGO  ANO_COMPETICAO TIME_MANDANTE MANDANTE_CIDADE  \\\n",
            "0  10/09/1910      1910            1910    UNIÃO LAPA       SÃO PAULO   \n",
            "1  14/09/1910      1910            1910   CORINTHIANS       SÃO PAULO   \n",
            "2  27/09/1910      1910            1910   CORINTHIANS       SÃO PAULO   \n",
            "3  08/10/1910      1910            1910        MORGAN       SÃO PAULO   \n",
            "4  01/01/1911      1911            1911   CORINTHIANS       SÃO PAULO   \n",
            "\n",
            "  MANDANTE_UF_PAIS PLACAR_MANDANTE PLACAR_VISITANTE TIME_VISITANTE  \\\n",
            "0               SP               1                0    CORINTHIANS   \n",
            "1               SP               2                0  ESTRELA POLAR   \n",
            "2               SP               5                0      LAPA (AA)   \n",
            "3               SP               ?                ?    CORINTHIANS   \n",
            "4               SP               1                2      RUGGERONE   \n",
            "\n",
            "  VISITANTE_CIDADE VISITANTE_UF_PAIS     COMPETICAO FASE  \\\n",
            "0        SÃO PAULO                SP  JOGO VARZEANO  NaN   \n",
            "1        SÃO PAULO                SP  JOGO VARZEANO  NaN   \n",
            "2        SÃO PAULO                SP  JOGO VARZEANO  NaN   \n",
            "3        SÃO PAULO                SP  JOGO VARZEANO  NaN   \n",
            "4        SÃO PAULO                SP  JOGO VARZEANO  NaN   \n",
            "\n",
            "                                             ESTADIO   LOCAL_ESTADIO  \\\n",
            "0                                     VÁRZEA DA LAPA  SÃO PAULO - SP   \n",
            "1  CAMPO DO LENHEIRO - RUA DOS IMIGRANTES (ATUAL ...  SÃO PAULO - SP   \n",
            "2  CAMPO DO LENHEIRO - RUA DOS IMIGRANTES (ATUAL ...  SÃO PAULO - SP   \n",
            "3                                           FLORESTA  SÃO PAULO - SP   \n",
            "4                                     NÃO ENCONTRADO              -    \n",
            "\n",
            "                                      OBSERVACAO  \n",
            "0     O PRIMEIRO JOGO DA HISTÓRIA DO CORINTHIANS  \n",
            "1  A PRIMEIRA VITÓRIA DA HISTÓRIA DO CORINTHIANS  \n",
            "2                                            NaN  \n",
            "3                       RESULTADO NÃO ENCONTRADO  \n",
            "4                                            NaN  \n",
            "DATA                 object\n",
            "ANO_JOGO              int64\n",
            "ANO_COMPETICAO        int64\n",
            "TIME_MANDANTE        object\n",
            "MANDANTE_CIDADE      object\n",
            "MANDANTE_UF_PAIS     object\n",
            "PLACAR_MANDANTE      object\n",
            "PLACAR_VISITANTE     object\n",
            "TIME_VISITANTE       object\n",
            "VISITANTE_CIDADE     object\n",
            "VISITANTE_UF_PAIS    object\n",
            "COMPETICAO           object\n",
            "FASE                 object\n",
            "ESTADIO              object\n",
            "LOCAL_ESTADIO        object\n",
            "OBSERVACAO           object\n",
            "dtype: object\n",
            "DATA                    0\n",
            "ANO_JOGO                0\n",
            "ANO_COMPETICAO          0\n",
            "TIME_MANDANTE           0\n",
            "MANDANTE_CIDADE        37\n",
            "MANDANTE_UF_PAIS        0\n",
            "PLACAR_MANDANTE         0\n",
            "PLACAR_VISITANTE        0\n",
            "TIME_VISITANTE          0\n",
            "VISITANTE_CIDADE       10\n",
            "VISITANTE_UF_PAIS       0\n",
            "COMPETICAO              0\n",
            "FASE                 1017\n",
            "ESTADIO                 0\n",
            "LOCAL_ESTADIO           0\n",
            "OBSERVACAO           5329\n",
            "dtype: int64\n",
            "          ANO_JOGO  ANO_COMPETICAO\n",
            "count  5652.000000     5652.000000\n",
            "mean   1974.327495     1974.307502\n",
            "std      26.835700       26.849086\n",
            "min    1910.000000     1910.000000\n",
            "25%    1955.000000     1955.000000\n",
            "50%    1977.000000     1977.000000\n",
            "75%    1997.000000     1997.000000\n",
            "max    2017.000000     2017.000000\n"
          ]
        }
      ]
    },
    {
      "cell_type": "markdown",
      "source": [
        "##Results"
      ],
      "metadata": {
        "id": "BUQBXAGsBZiD"
      }
    },
    {
      "cell_type": "code",
      "source": [
        "#jogos por ano\n",
        "sns.histplot(data.ANO_COMPETICAO, bins = 107)"
      ],
      "metadata": {
        "colab": {
          "base_uri": "https://localhost:8080/",
          "height": 297
        },
        "id": "687_rlhrBS3v",
        "outputId": "d457b9a5-d487-4576-df7a-f2820c95b74a"
      },
      "execution_count": null,
      "outputs": [
        {
          "output_type": "execute_result",
          "data": {
            "text/plain": [
              "<matplotlib.axes._subplots.AxesSubplot at 0x7f9b79bf0f10>"
            ]
          },
          "metadata": {},
          "execution_count": 222
        },
        {
          "output_type": "display_data",
          "data": {
            "text/plain": [
              "<Figure size 432x288 with 1 Axes>"
            ],
            "image/png": "[encoded data removed]"
          },
          "metadata": {
            "needs_background": "light"
          }
        }
      ]
    },
    {
      "cell_type": "code",
      "source": [
        "resultado = []\n",
        "mandante = []\n",
        "\n",
        "for i in range(len(data)):\n",
        "  if data['TIME_MANDANTE'].isin(['CORINTHIANS']).values[i] == True:\n",
        "    if data['PLACAR_MANDANTE'].values[i] > data['PLACAR_VISITANTE'].values[i]:\n",
        "      resultado.append('VITORIA')\n",
        "      mandante.append(True)\n",
        "    elif data['PLACAR_MANDANTE'].values[i] == data['PLACAR_VISITANTE'].values[i]:\n",
        "      resultado.append('EMPATE')\n",
        "      mandante.append(True)\n",
        "    elif data['PLACAR_MANDANTE'].values[i] < data['PLACAR_VISITANTE'].values[i]:\n",
        "      resultado.append('DERROTA')\n",
        "      mandante.append(True)\n",
        "  elif data['TIME_MANDANTE'].isin(['CORINTHIANS']).values[i] == False:\n",
        "    if data['PLACAR_MANDANTE'].values[i] < data['PLACAR_VISITANTE'].values[i]:\n",
        "      resultado.append('VITORIA')\n",
        "      mandante.append(False)\n",
        "    elif data['PLACAR_MANDANTE'].values[i] == data['PLACAR_VISITANTE'].values[i]:\n",
        "      resultado.append('EMPATE')\n",
        "      mandante.append(False)\n",
        "    elif data['PLACAR_MANDANTE'].values[i] > data['PLACAR_VISITANTE'].values[i]:\n",
        "      resultado.append('DERROTA')\n",
        "      mandante.append(False)\n",
        "\n",
        "data['RESULTADO'] = resultado\n",
        "data['MANDANTE'] = mandante\n",
        "\n",
        "print(data['RESULTADO'].describe())\n",
        "print(data['MANDANTE'].describe())"
      ],
      "metadata": {
        "colab": {
          "base_uri": "https://localhost:8080/"
        },
        "id": "EP2fd3l5Wp4J",
        "outputId": "4d4b9f74-d753-4b03-e790-d762e04f8574"
      },
      "execution_count": null,
      "outputs": [
        {
          "output_type": "stream",
          "name": "stdout",
          "text": [
            "count        5652\n",
            "unique          3\n",
            "top       VITORIA\n",
            "freq         2954\n",
            "Name: RESULTADO, dtype: object\n",
            "count      5652\n",
            "unique        2\n",
            "top       False\n",
            "freq       2975\n",
            "Name: MANDANTE, dtype: object\n"
          ]
        }
      ]
    },
    {
      "cell_type": "code",
      "source": [
        "sns.histplot(data=data, x='ANO_JOGO', y='PLACAR_MANDANTE')"
      ],
      "metadata": {
        "colab": {
          "base_uri": "https://localhost:8080/",
          "height": 297
        },
        "id": "EvaIepcvxToY",
        "outputId": "32945c85-5c2e-4890-d264-695c8338d682"
      },
      "execution_count": null,
      "outputs": [
        {
          "output_type": "execute_result",
          "data": {
            "text/plain": [
              "<matplotlib.axes._subplots.AxesSubplot at 0x7f9b822296d0>"
            ]
          },
          "metadata": {},
          "execution_count": 194
        },
        {
          "output_type": "display_data",
          "data": {
            "text/plain": [
              "<Figure size 432x288 with 1 Axes>"
            ],
            "image/png": "[encoded data removed]"
          },
          "metadata": {
            "needs_background": "light"
          }
        }
      ]
    },
    {
      "cell_type": "code",
      "source": [
        "plt.figure(figsize = (20,8))\n",
        "b = data['ANO_JOGO'].max() - data['ANO_JOGO'].min()\n",
        "print(b)\n",
        "chart = sns.histplot(data=data, x=\"ANO_JOGO\", hue=\"RESULTADO\", multiple=\"stack\", bins=b)\n",
        "\n",
        "#g = sns.FacetGrid(data=data, col=\"MANDANTE\", hue=\"RESULTADO\")\n",
        "#g.map(sns.histplot(x=\"ANO_JOGO\", multiple=\"stack\", bins=b))\n",
        "#g.add_legend()"
      ],
      "metadata": {
        "colab": {
          "base_uri": "https://localhost:8080/",
          "height": 515
        },
        "id": "qYAOanReBW4Q",
        "outputId": "c99718ad-7f0d-4483-a871-ae48ba8a4c60"
      },
      "execution_count": null,
      "outputs": [
        {
          "output_type": "stream",
          "name": "stdout",
          "text": [
            "107\n"
          ]
        },
        {
          "output_type": "display_data",
          "data": {
            "text/plain": [
              "<Figure size 1440x576 with 1 Axes>"
            ],
            "image/png": "[encoded data removed]"
          },
          "metadata": {
            "needs_background": "light"
          }
        }
      ]
    }
  ]
}