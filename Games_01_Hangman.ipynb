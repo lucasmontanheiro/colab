{
  "nbformat": 4,
  "nbformat_minor": 0,
  "metadata": {
    "colab": {
      "provenance": [],
      "authorship_tag": "ABX9TyN9EspRmb10x44KxV2KamPP",
      "include_colab_link": true
    },
    "kernelspec": {
      "name": "python3",
      "display_name": "Python 3"
    },
    "language_info": {
      "name": "python"
    }
  },
  "cells": [
    {
      "cell_type": "markdown",
      "metadata": {
        "id": "view-in-github",
        "colab_type": "text"
      },
      "source": [
        "<a href=\"https://colab.research.google.com/github/lucasmontanheiro/colab/blob/main/Projects/Games_01_Hangman.ipynb\" target=\"_parent\"><img src=\"https://colab.research.google.com/assets/colab-badge.svg\" alt=\"Open In Colab\"/></a>"
      ]
    },
    {
      "cell_type": "code",
      "execution_count": 1,
      "metadata": {
        "id": "NV81bRYxXuVo"
      },
      "outputs": [],
      "source": [
        "import pandas as pd"
      ]
    },
    {
      "cell_type": "code",
      "source": [
        "word = \"house\"\n",
        "chances = 0\n",
        "display = \"_____\"\n",
        "guess = \"\"\n",
        "\n",
        "def generate_display(guess):\n",
        "  for index, value in enumerate(word):\n",
        "    if value == guess:\n",
        "      display2 = display[:index] + value + display[index + 1:]\n",
        "  return display2\n",
        "\n",
        "while chances <= (len(word) - 1):\n",
        "  guess = input(\"Enter letter: \")\n",
        "  print(\"Your guess: \" + guess)\n",
        "\n",
        "  for w in word:\n",
        "    if w == guess:\n",
        "      display = generate_display(guess)\n",
        "  chances += 1\n",
        "  \n",
        "  print(display)\n",
        "  print(f'You have {len(word) - chances} chances!')"
      ],
      "metadata": {
        "colab": {
          "base_uri": "https://localhost:8080/"
        },
        "id": "eqLxayUVX3Ru",
        "outputId": "afad52f6-dbbe-4b0a-f0bf-dfd1681b2c5f"
      },
      "execution_count": 6,
      "outputs": [
        {
          "output_type": "stream",
          "name": "stdout",
          "text": [
            "Enter letter: s\n",
            "Your guess: s\n",
            "___s_\n",
            "You have 4 chances!\n",
            "Enter letter: e\n",
            "Your guess: e\n",
            "___se\n",
            "You have 3 chances!\n",
            "Enter letter: h\n",
            "Your guess: h\n",
            "h__se\n",
            "You have 2 chances!\n",
            "Enter letter: o\n",
            "Your guess: o\n",
            "ho_se\n",
            "You have 1 chances!\n",
            "Enter letter: u\n",
            "Your guess: u\n",
            "house\n",
            "You have 0 chances!\n"
          ]
        }
      ]
    }
  ]
}